{
 "cells": [
  {
   "cell_type": "markdown",
   "metadata": {},
   "source": [
    "# 1.准备\n",
    "> 1.说明：《Mastering Python》读书笔记\n",
    "\n",
    "> 2.要求：首先，希望你是处在`python3`版本，然后拥有一个干净的虚拟环境更是必要。\n",
    "\n",
    "> 3.virtualenv或者anaconda都是不错的选择\n",
    "\n",
    "# 2.Pythonic Syntax, Common Pitfalls, and Style Guide\n",
    "## 2.1.Pythonic code\n",
    "对于python开发者，无不希望写出pythonic风格的代码，请谨记以下几点：\n",
    "    - Clean\n",
    "    - Simple\n",
    "    - Beautiful\n",
    "    - Explicit\n",
    "    - Readable\n",
    "具体的话请打开你的python解释器：\n",
    "```\n",
    "import this\n",
    "```\n",
    "细细感受吧。\n",
    "### 2.1.2.Differences between value and identity comparisons\n",
    "对于下面这个例子："
   ]
  },
  {
   "cell_type": "code",
   "execution_count": 2,
   "metadata": {
    "collapsed": false
   },
   "outputs": [
    {
     "name": "stdout",
     "output_type": "stream",
     "text": [
      "256 == 256: True\n",
      "256 is 256: True\n",
      "-5 == -5: True\n",
      "-5 is -5: True\n",
      "257 == 257: True\n",
      "257 is 257: False\n",
      "-6 == -6: True\n",
      "-6 is -6: False\n"
     ]
    }
   ],
   "source": [
    "a1 = 200 + 56\n",
    "a2 = 256\n",
    "b1 = -4 - 1\n",
    "b2 = -5\n",
    "c1 = 200 + 57\n",
    "c2 = 257\n",
    "d1 = -4 - 2\n",
    "d2 = -6\n",
    "print('%r == %r: %r' % (a1, a2, a1 == a2))\n",
    "print('%r is %r: %r' % (a1, a2, a1 is a2))\n",
    "print('%r == %r: %r' % (b1, b2, b1 == b2))\n",
    "print('%r is %r: %r' % (b1, b2, b1 is b2))\n",
    "print('%r == %r: %r' % (c1, c2, c1 == c2))\n",
    "print('%r is %r: %r' % (c1, c2, c1 is c2))\n",
    "print('%r == %r: %r' % (d1, d2, d1 == d2))\n",
    "print('%r is %r: %r' % (d1, d2, d1 is d2))"
   ]
  },
  {
   "cell_type": "markdown",
   "metadata": {},
   "source": [
    "可以看到，在值相同的情况下，使用`==`比较都返回`True`自不必说，为何有的`id`相同有的`id`却不同？\n",
    "\n",
    "这是因为，在`pyhton`中，会提前为一小部分整数提前分配空间，这个整数的范围是\\[-5,256\\]，当整数范围大于256或者小于-5时，`python`便会为该整数创建对象，于是造成id不同。如果想深入了解，可阅读[深入 Python 整数对象的实现](http://python.jobbole.com/82632/)\n",
    "### 2.1.3.Loops\n",
    "对于一个列表，比如：\n",
    "``` python\n",
    "my_list = [1, 2, 3, 4]\n",
    "```\n",
    "想将其输出为`[index:value]`这种列表格式，请看以下几种实现方法：\n",
    "``` python\n",
    "index = 0\n",
    "my_list = [1, 2, 3, 4]\n",
    "new_list = []\n",
    "for value in my_list:\n",
    "    value = \"{0}:{1}\".format(index, value)\n",
    "    new_list.append(value)\n",
    "    index += 1\n",
    "print(new_list)\n",
    "```\n",
    "不得不说，实在很繁琐，我们可以利用`python`提供的`enumerate`类：\n",
    "``` python\n",
    "new_list = []\n",
    "for index, value in enumerate(my_list):\n",
    "    value = \"{0}:{1}\".format(index, value)\n",
    "    new_list.append(value)\n",
    "print(new_list)\n",
    "```\n",
    "第二种方法确实精简了不少，但是，优雅的`pythonic`不是浪得虚名，请看这种："
   ]
  },
  {
   "cell_type": "code",
   "execution_count": 4,
   "metadata": {
    "collapsed": false
   },
   "outputs": [
    {
     "data": {
      "text/plain": [
       "['0:1', '1:2', '2:3', '3:4']"
      ]
     },
     "execution_count": 4,
     "metadata": {},
     "output_type": "execute_result"
    }
   ],
   "source": [
    "my_list = [1, 2, 3, 4]\n",
    "[\"{0}:{1}\".format(index, value) for index, value in enumerate(my_list)]"
   ]
  },
  {
   "cell_type": "markdown",
   "metadata": {},
   "source": [
    "## 2.2.Common pitfalls\n",
    "虽说`python`自诩是一种清晰易读无歧义的优雅语言，但是这个伟大的目标并不是那么容易实现。\n",
    "### 2.2.1.Function arguments\n",
    "需要知道的是，**千万不要使用可变参数作为函数默认参数**，看下面这样一个例子："
   ]
  },
  {
   "cell_type": "code",
   "execution_count": 5,
   "metadata": {
    "collapsed": false
   },
   "outputs": [
    {
     "name": "stdout",
     "output_type": "stream",
     "text": [
      "List: ['value 1']\n",
      "Dict: {'key 1': 'value 1'}\n",
      "List: ['value 1', 'value 2']\n",
      "Dict: {'key 2': 'value 2', 'key 1': 'value 1'}\n"
     ]
    }
   ],
   "source": [
    "def spam(key, value, list_=[], dict_={}):\n",
    "    list_.append(value)\n",
    "    dict_[key] = value\n",
    "    print('List: %r' % list_)\n",
    "    print('Dict: %r' % dict_)\n",
    "\n",
    "\n",
    "spam('key 1', 'value 1')\n",
    "spam('key 2', 'value 2')"
   ]
  },
  {
   "cell_type": "markdown",
   "metadata": {},
   "source": [
    "按照代码的思路，输出的结果应该是下面这样才对：\n",
    "``` python\n",
    "List: ['value 1']\n",
    "Dict: {'key 1': 'value 1'}\n",
    "List: ['value 2']\n",
    "Dict: {'key 2': 'value 2'}\n",
    "```\n",
    "实际上并非如此，首先，`list`以及`dict`都是可变对象，当`spam`函数被定义，`list_`和`dict_`就会被创建（**但是它们只被创建一次**），随后调用函数的时候，`list_`和`dict_`并没有被重新创建，于是，这个陷阱便出现了。\n",
    "\n",
    "正确的做法："
   ]
  },
  {
   "cell_type": "code",
   "execution_count": 6,
   "metadata": {
    "collapsed": false
   },
   "outputs": [
    {
     "name": "stdout",
     "output_type": "stream",
     "text": [
      "List: ['value 1']\n",
      "Dict: {'key 1': 'value 1'}\n",
      "List: ['value 2']\n",
      "Dict: {'key 2': 'value 2'}\n"
     ]
    }
   ],
   "source": [
    "def spam(key, value, list_=None, dict_=None):\n",
    "    if list_ is None:\n",
    "        list_ = []\n",
    "    if dict_ is None:\n",
    "        dict_ = {}\n",
    "    list_.append(value)\n",
    "    dict_[key] = value\n",
    "    print('List: %r' % list_)\n",
    "    print('Dict: %r' % dict_)\n",
    "\n",
    "\n",
    "spam('key 1', 'value 1')\n",
    "spam('key 2', 'value 2')"
   ]
  },
  {
   "cell_type": "markdown",
   "metadata": {},
   "source": [
    "### 2.2.2.Class properties\n",
    "在类的定义中，也存在这样的问题。\n",
    "``` python\n",
    "class Spam(object):\n",
    "\n",
    "    list_ = []\n",
    "    dict_ = {}\n",
    "\n",
    "    def __init__(self, key, value):\n",
    "        self.list_.append(value)\n",
    "        self.dict_[key] = value\n",
    "        print('List: %r' % self.list_)\n",
    "        print('Dict: %r' % self.dict_)\n",
    "\n",
    "\n",
    "Spam('key 1', 'value 1')\n",
    "Spam('key 2', 'value 2')\n",
    "```\n",
    "output:\n",
    "```\n",
    "List: ['value 1']\n",
    "Dict: {'key 1': 'value 1'}\n",
    "List: ['value 1', 'value 2']\n",
    "Dict: {'key 1': 'value 1', 'key 2': 'value 2'}\n",
    "```\n",
    "替代方案："
   ]
  },
  {
   "cell_type": "code",
   "execution_count": 7,
   "metadata": {
    "collapsed": false
   },
   "outputs": [
    {
     "name": "stdout",
     "output_type": "stream",
     "text": [
      "List: ['key 1']\n",
      "Dict: {'key 1': 'value 1'}\n",
      "List: ['key 2']\n",
      "Dict: {'key 2': 'value 2'}\n"
     ]
    },
    {
     "data": {
      "text/plain": [
       "<__main__.Spam at 0x10498a2b0>"
      ]
     },
     "execution_count": 7,
     "metadata": {},
     "output_type": "execute_result"
    }
   ],
   "source": [
    "class Spam(object):\n",
    "    def __init__(self, key, value):\n",
    "        self.list_ = [key]\n",
    "        self.dict_ = {key: value}\n",
    "        print('List: %r' % self.list_)\n",
    "        print('Dict: %r' % self.dict_)\n",
    "\n",
    "\n",
    "Spam('key 1', 'value 1')\n",
    "Spam('key 2', 'value 2')"
   ]
  },
  {
   "cell_type": "markdown",
   "metadata": {},
   "source": [
    "### 2.2.3.Modifying variables in the global scope\n",
    "在函数内对变量进行操作也有需要注意的地方。"
   ]
  },
  {
   "cell_type": "code",
   "execution_count": 8,
   "metadata": {
    "collapsed": false
   },
   "outputs": [
    {
     "ename": "UnboundLocalError",
     "evalue": "local variable 'spam' referenced before assignment",
     "output_type": "error",
     "traceback": [
      "\u001b[0;31m---------------------------------------------------------------------------\u001b[0m",
      "\u001b[0;31mUnboundLocalError\u001b[0m                         Traceback (most recent call last)",
      "\u001b[0;32m<ipython-input-8-52c0d52ad689>\u001b[0m in \u001b[0;36m<module>\u001b[0;34m()\u001b[0m\n\u001b[1;32m      7\u001b[0m \u001b[0;34m\u001b[0m\u001b[0m\n\u001b[1;32m      8\u001b[0m \u001b[0;34m\u001b[0m\u001b[0m\n\u001b[0;32m----> 9\u001b[0;31m \u001b[0meggs\u001b[0m\u001b[0;34m(\u001b[0m\u001b[0;34m)\u001b[0m\u001b[0;34m\u001b[0m\u001b[0m\n\u001b[0m",
      "\u001b[0;32m<ipython-input-8-52c0d52ad689>\u001b[0m in \u001b[0;36meggs\u001b[0;34m()\u001b[0m\n\u001b[1;32m      3\u001b[0m \u001b[0;34m\u001b[0m\u001b[0m\n\u001b[1;32m      4\u001b[0m \u001b[0;32mdef\u001b[0m \u001b[0meggs\u001b[0m\u001b[0;34m(\u001b[0m\u001b[0;34m)\u001b[0m\u001b[0;34m:\u001b[0m\u001b[0;34m\u001b[0m\u001b[0m\n\u001b[0;32m----> 5\u001b[0;31m     \u001b[0mspam\u001b[0m \u001b[0;34m+=\u001b[0m \u001b[0;36m1\u001b[0m\u001b[0;34m\u001b[0m\u001b[0m\n\u001b[0m\u001b[1;32m      6\u001b[0m     \u001b[0mprint\u001b[0m\u001b[0;34m(\u001b[0m\u001b[0mspam\u001b[0m\u001b[0;34m)\u001b[0m\u001b[0;34m\u001b[0m\u001b[0m\n\u001b[1;32m      7\u001b[0m \u001b[0;34m\u001b[0m\u001b[0m\n",
      "\u001b[0;31mUnboundLocalError\u001b[0m: local variable 'spam' referenced before assignment"
     ]
    }
   ],
   "source": [
    "spam = 1\n",
    "\n",
    "\n",
    "def eggs():\n",
    "    spam += 1\n",
    "    print(spam)\n",
    "\n",
    "\n",
    "eggs()"
   ]
  },
  {
   "cell_type": "markdown",
   "metadata": {},
   "source": [
    "在`eggs`函数内，如果某个变量有被赋值，那么该变量就是局部变量，如果没有赋值，那么便会被解释为全局变量，所以对局部变量`spam`进行操作的时候，在函数内并没有进行赋值，`spam`被解释成全局变量，自然会出现错误。\n",
    "\n",
    "### 2.2.4.Modifying while iterating\n",
    "当对某个字典进行迭代的时候："
   ]
  },
  {
   "cell_type": "code",
   "execution_count": 9,
   "metadata": {
    "collapsed": false
   },
   "outputs": [
    {
     "ename": "RuntimeError",
     "evalue": "dictionary changed size during iteration",
     "output_type": "error",
     "traceback": [
      "\u001b[0;31m---------------------------------------------------------------------------\u001b[0m",
      "\u001b[0;31mRuntimeError\u001b[0m                              Traceback (most recent call last)",
      "\u001b[0;32m<ipython-input-9-b88de85f5f0b>\u001b[0m in \u001b[0;36m<module>\u001b[0;34m()\u001b[0m\n\u001b[1;32m      1\u001b[0m \u001b[0mdict_\u001b[0m \u001b[0;34m=\u001b[0m \u001b[0;34m{\u001b[0m\u001b[0;34m'spam'\u001b[0m\u001b[0;34m:\u001b[0m \u001b[0;34m'eggs'\u001b[0m\u001b[0;34m}\u001b[0m\u001b[0;34m\u001b[0m\u001b[0m\n\u001b[1;32m      2\u001b[0m \u001b[0;34m\u001b[0m\u001b[0m\n\u001b[0;32m----> 3\u001b[0;31m \u001b[0;32mfor\u001b[0m \u001b[0mkey\u001b[0m \u001b[0;32min\u001b[0m \u001b[0mdict_\u001b[0m\u001b[0;34m:\u001b[0m\u001b[0;34m\u001b[0m\u001b[0m\n\u001b[0m\u001b[1;32m      4\u001b[0m     \u001b[0;32mdel\u001b[0m \u001b[0mdict_\u001b[0m\u001b[0;34m[\u001b[0m\u001b[0mkey\u001b[0m\u001b[0;34m]\u001b[0m\u001b[0;34m\u001b[0m\u001b[0m\n",
      "\u001b[0;31mRuntimeError\u001b[0m: dictionary changed size during iteration"
     ]
    }
   ],
   "source": [
    "dict_ = {'spam': 'eggs'}\n",
    "\n",
    "for key in dict_:\n",
    "    del dict_[key]"
   ]
  },
  {
   "cell_type": "markdown",
   "metadata": {
    "collapsed": true
   },
   "source": [
    "改正方法如下：\n",
    "```\n",
    "dict_ = {'spam': 'eggs'}\n",
    "\n",
    "for key in list(dict_):\n",
    "    del dict_[key]\n",
    "```\n",
    "### 2.2.5.Late binding\n",
    "这个问题就是所谓的后期绑定，什么是后期绑定？请看下面的例子："
   ]
  },
  {
   "cell_type": "code",
   "execution_count": 1,
   "metadata": {
    "collapsed": false
   },
   "outputs": [
    {
     "name": "stdout",
     "output_type": "stream",
     "text": [
      "10\n",
      "10\n",
      "10\n"
     ]
    }
   ],
   "source": [
    "eggs = [lambda a: i * a for i in range(3)]\n",
    "for egg in eggs:\n",
    "    print(egg(5))\n",
    "# 理想结果\n",
    "# 0\n",
    "# 5\n",
    "# 10"
   ]
  },
  {
   "cell_type": "markdown",
   "metadata": {},
   "source": [
    "果然现实和理想是有差别的，为什么会造成这样的结果呢，是因为在匿名函数中`i`的值是2，可是明明分别循环了`0、1、2`。\n",
    "你需要知道，定义一个函数后，函数内的变量并不是立刻就把值绑定了，而是在被调用的时候才会去查找变量，所以等`egg(5)`去查找i这个变量的时候，`i=5`，于是就造成了后期绑定这个陷阱。\n",
    "要解决这个问题很简单，只需要在出现后期绑定前提前对变量进行*赋值*操作即可"
   ]
  },
  {
   "cell_type": "code",
   "execution_count": 4,
   "metadata": {
    "collapsed": false
   },
   "outputs": [
    {
     "name": "stdout",
     "output_type": "stream",
     "text": [
      "0\n",
      "5\n",
      "10\n"
     ]
    }
   ],
   "source": [
    "# 粗暴点可以直接这么来\n",
    "eggs = [lambda a, i=i: i * a for i in range(3)]\n",
    "for egg in eggs:\n",
    "    print(egg(5))"
   ]
  },
  {
   "cell_type": "code",
   "execution_count": 5,
   "metadata": {
    "collapsed": false
   },
   "outputs": [
    {
     "name": "stdout",
     "output_type": "stream",
     "text": [
      "0\n",
      "5\n",
      "10\n"
     ]
    }
   ],
   "source": [
    "# 优雅点\n",
    "eggs = (lambda a: i * a for i in range(3))\n",
    "for egg in eggs:\n",
    "    print(egg(5))"
   ]
  },
  {
   "cell_type": "code",
   "execution_count": 6,
   "metadata": {
    "collapsed": false
   },
   "outputs": [
    {
     "name": "stdout",
     "output_type": "stream",
     "text": [
      "0\n",
      "5\n",
      "10\n"
     ]
    }
   ],
   "source": [
    "# 高级语法这么来\n",
    "import functools\n",
    "eggs = [functools.partial(lambda i, a: i * a, i) for i in range(3)]\n",
    "for egg in eggs:\n",
    "    print(egg(5))"
   ]
  },
  {
   "cell_type": "markdown",
   "metadata": {},
   "source": [
    "总之，以上作为参考，能解决就好。\n",
    "\n",
    "# 3.总结\n",
    "\n",
    "本节笔记主要记录`python`一些优雅的写法以及陷阱。"
   ]
  }
 ],
 "metadata": {
  "anaconda-cloud": {},
  "kernelspec": {
   "display_name": "Python [conda env:learn]",
   "language": "python",
   "name": "conda-env-learn-py"
  },
  "language_info": {
   "codemirror_mode": {
    "name": "ipython",
    "version": 3
   },
   "file_extension": ".py",
   "mimetype": "text/x-python",
   "name": "python",
   "nbconvert_exporter": "python",
   "pygments_lexer": "ipython3",
   "version": "3.5.2"
  }
 },
 "nbformat": 4,
 "nbformat_minor": 1
}
